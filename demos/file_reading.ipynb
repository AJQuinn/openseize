{
 "cells": [
  {
   "cell_type": "markdown",
   "id": "684d8714",
   "metadata": {},
   "source": [
    "# File Reading "
   ]
  },
  {
   "cell_type": "markdown",
   "id": "d8719f7d",
   "metadata": {},
   "source": [
    "- [**Imports**](#Imports)\n",
    "- [**Introduction**](#Introduction)\n",
    "- [**Reading EDF Files**](#Reading-EDF-Files)\n",
    "    - [**EDF Reader**](#EDF-Reader)\n",
    "    - [**Properties and Attributes**](#Properties-and-Attributes)\n",
    "    - [**Header Information**](#Header-Information)\n",
    "        - be sure to include how to access header items using '.' dot notation\n",
    "    - [**File Resources**](#File-Resources)\n",
    "        - discuss closing of open file readers\n",
    "    - [**EDF Context Managers**](#EDF-Context-Managers)\n",
    "- [**Writing EDF Files**](#Writing-EDF-Files)\n",
    "    - open the demo file and select only channels 1 and 3 and write them to a new file in demos.\n",
    "    - make sure the header matches the data in the written file\n",
    "    - open the newly saved file and check that its data matches the original file for chs 1 and 3 \n",
    "- [**Building New Reader Types**](#Building-New-Reader-Types)\n",
    "    - discuss what is required of any reader type \n",
    "    - discuss how these requirements satisfy production of subarrays using producers from readers"
   ]
  },
  {
   "cell_type": "markdown",
   "id": "f3a918b7",
   "metadata": {},
   "source": [
    "## Objectives for 7/7 - 7-14\n",
    "\n",
    "- 1. Review producers demo checking for typos, markdown errors, and hyperlink errors.\n",
    "- 2. Review differences between our producer demos. A few items I noticed:\n",
    "    - a. Code simplicity -- my largest cell contains only 8 lines. Demos should use only small code snippets.\n",
    "    - b. Show call signatures and help documentation\n",
    "    - c. Highlight important points with text boldings, colors etc.\n",
    "    - d. print what instances look like on return where needed\n",
    "    - e. limit use of subfunctions with kwargs set to specific values; delegate kwargs to caller function (65)\n",
    "    - f. realistic examples -see the sizes of arrays chosen, the selection of items to mask in producers etc.\n",
    "- 3. This file reading demo"
   ]
  },
  {
   "cell_type": "code",
   "execution_count": null,
   "id": "a08330bb",
   "metadata": {},
   "outputs": [],
   "source": []
  }
 ],
 "metadata": {
  "kernelspec": {
   "display_name": "Python 3 (ipykernel)",
   "language": "python",
   "name": "python3"
  },
  "language_info": {
   "codemirror_mode": {
    "name": "ipython",
    "version": 3
   },
   "file_extension": ".py",
   "mimetype": "text/x-python",
   "name": "python",
   "nbconvert_exporter": "python",
   "pygments_lexer": "ipython3",
   "version": "3.9.12"
  }
 },
 "nbformat": 4,
 "nbformat_minor": 5
}
