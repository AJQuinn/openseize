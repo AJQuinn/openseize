{
 "cells": [
  {
   "cell_type": "markdown",
   "id": "e4f35606",
   "metadata": {},
   "source": [
    "# Demo 1: Producers"
   ]
  },
  {
   "cell_type": "markdown",
   "id": "6b05190d",
   "metadata": {},
   "source": [
    "- [Introduction](#Introduction)\n",
    "- [Creation Routines](#Creation-Routines)\n",
    "    - [From arrays](#From-arrays)\n",
    "    - [From sequences](#From-Sequences)\n",
    "    - [From binary files](#From-binary-files)\n",
    "    - [From generating functions](#From-generating-functions)\n",
    "    - [From producers](#From-producers)\n",
    "- [Producers-to-arrays](#Producers-to-arrays)\n",
    "- [Masked Producers](#Masked-Producers) "
   ]
  },
  {
   "cell_type": "code",
   "execution_count": 1,
   "id": "3b6d9d77",
   "metadata": {},
   "outputs": [],
   "source": [
    "import numpy as np\n",
    "import matplotlib.pyplot as plt\n",
    "\n",
    "from openseize import producer\n",
    "from openseize.io.edf import Reader"
   ]
  },
  {
   "cell_type": "markdown",
   "id": "fcc4e672",
   "metadata": {},
   "source": [
    "## Introduction"
   ]
  },
  {
   "cell_type": "markdown",
   "id": "6a7d50a1",
   "metadata": {},
   "source": [
    "In this document, we will introduce Producers, one of the primary building blocks of OpenSeize. Producers are an answer to the issue of loading in massive amounts of data into memory before performing analysis or other manipulations. They do so by taking in one of various forms of data and a desired chunksize, splitting the data into numpy arrays of that chunksize. Think of Producers as multipurpose PEZ Dispensers. You slot your input data in, along with the chunksize, to create a Producer object. This object can then spit out chunks one at a time, as you iterate over it using one of Python's many iterative methods.\n",
    "\n",
    "Below, we will show off how to use Producers to read in from the following data input types:\n",
    " - Numpy Arrays\n",
    " - Python Sequences\n",
    " - Binary Files (e.g. EDF Files)\n",
    " - Python Generator Functions\n",
    " - Other Producers\n",
    "\n",
    "For each of these, we will also give examples of how to read / use them in practice.\n",
    "\n",
    "In addition, we'll take a look at Masked Producers, which are a convenient way to filter the data that the Producer outputs based on criteria you might want to enforce."
   ]
  },
  {
   "cell_type": "markdown",
   "id": "d3fd2d6e",
   "metadata": {},
   "source": [
    "## Creation Routines"
   ]
  },
  {
   "cell_type": "markdown",
   "id": "0b5c1b17",
   "metadata": {},
   "source": []
  },
  {
   "cell_type": "markdown",
   "id": "d1131c6d",
   "metadata": {},
   "source": [
    "### From arrays"
   ]
  },
  {
   "cell_type": "markdown",
   "id": "61ee3d15",
   "metadata": {},
   "source": [
    "First, we'll look at numpy arrays and how to fit them into a Producer. Note that because numpy arrays are already loaded in memory, you won't get the same memory saving advantages as for, say, a large binary file, but you can still take advantage of the Producer's ability to split the array into chunks, one at a time and at will."
   ]
  },
  {
   "cell_type": "markdown",
   "id": "a634bd37",
   "metadata": {},
   "source": [
    "Here, I'm going to make a basic 2D array of values from 0 to 5000."
   ]
  },
  {
   "cell_type": "code",
   "execution_count": 24,
   "id": "fd66a954",
   "metadata": {},
   "outputs": [
    {
     "data": {
      "text/plain": [
       "array([[   0,    1,    2, ...,  247,  248,  249],\n",
       "       [ 250,  251,  252, ...,  497,  498,  499],\n",
       "       [ 500,  501,  502, ...,  747,  748,  749],\n",
       "       [ 750,  751,  752, ...,  997,  998,  999],\n",
       "       [1000, 1001, 1002, ..., 1247, 1248, 1249]])"
      ]
     },
     "execution_count": 24,
     "metadata": {},
     "output_type": "execute_result"
    }
   ],
   "source": [
    "data_array = np.arange(5000).reshape(20, 250)\n",
    "data_array[:5]"
   ]
  },
  {
   "cell_type": "markdown",
   "id": "c725f9e1",
   "metadata": {},
   "source": [
    "Now, to create the Producer object. \n",
    "\n",
    "We need to choose the chunksize, and the axis along which we're going to split the data. In this example, we will split the data along the first axis."
   ]
  },
  {
   "cell_type": "code",
   "execution_count": 19,
   "id": "6d7bc9e0",
   "metadata": {},
   "outputs": [],
   "source": [
    "chunksize = 5\n",
    "axis = 0\n",
    "array_producer = producer(data_array, chunksize=chunksize, axis=axis)"
   ]
  },
  {
   "cell_type": "markdown",
   "id": "aa1c901c",
   "metadata": {},
   "source": [
    "Now that we have our Producer, we can iterate over it like any other Python iterable. Here, we use a for-each loop to access each chunk.\n",
    "\n",
    "We can see the shape of each chunk; because we split along the first axis with a chunksize of 5, each chunk has 5 as its first dimension.\n",
    "Because the output chunks are numpy arrays, you can perform any numpy operations on them as you see fit."
   ]
  },
  {
   "cell_type": "code",
   "execution_count": 21,
   "id": "b6f37240",
   "metadata": {},
   "outputs": [
    {
     "name": "stdout",
     "output_type": "stream",
     "text": [
      "(5, 250)\n",
      "624.5\n",
      "(5, 250)\n",
      "1874.5\n",
      "(5, 250)\n",
      "3124.5\n",
      "(5, 250)\n",
      "4374.5\n"
     ]
    }
   ],
   "source": [
    "for chunk in array_producer:\n",
    "    print(chunk.shape)\n",
    "    print(np.average(chunk))"
   ]
  },
  {
   "cell_type": "markdown",
   "id": "ed611731",
   "metadata": {},
   "source": [
    "To see what would happen if we split the data along the second axis, we will pass it in as input to a new Producer and see how the chunks look when split that way. Note that, this time, the dimensions are the same as the original data along the first axis, but reduced to length 5 chunks along the second axis."
   ]
  },
  {
   "cell_type": "code",
   "execution_count": 31,
   "id": "59231aaa",
   "metadata": {},
   "outputs": [
    {
     "name": "stdout",
     "output_type": "stream",
     "text": [
      "(20, 5)\n",
      "2377.0\n",
      "(20, 5)\n",
      "2382.0\n",
      "(20, 5)\n",
      "2387.0\n",
      "(20, 5)\n",
      "2392.0\n",
      "(20, 5)\n",
      "2397.0\n"
     ]
    }
   ],
   "source": [
    "axis = 1\n",
    "array_producer2 = producer(data_array, chunksize=chunksize, axis=axis)\n",
    "\n",
    "# Here, we convert the iterable Producer into a list so we can access just the first few elements.\n",
    "# Generally, this is not recommended, as it loads the whole of the data into memory. Again, for arrays, this doesn't matter.\n",
    "array_producer2_list = list(array_producer2)\n",
    "\n",
    "for i in range(5):\n",
    "    print(array_producer2_list[i].shape)\n",
    "    print(np.average(array_producer2_list[i]))"
   ]
  },
  {
   "cell_type": "markdown",
   "id": "e9e7f0c8",
   "metadata": {},
   "source": [
    "### From sequences"
   ]
  },
  {
   "cell_type": "markdown",
   "id": "f6ecf0e7",
   "metadata": {},
   "source": [
    "Producers can also take in any Python sequence object as an input. Primary examples of sequences include strings, lists, tuples, and byte arrays. The behavior of Producers in this context is exactly the same as in the arrays example."
   ]
  },
  {
   "cell_type": "code",
   "execution_count": 54,
   "id": "84f008a7",
   "metadata": {},
   "outputs": [
    {
     "data": {
      "text/plain": [
       "[[0, 1, 2, 3, 4, 5, 6, 7, 8, 9],\n",
       " [0, 1, 2, 3, 4, 5, 6, 7, 8, 9],\n",
       " [0, 1, 2, 3, 4, 5, 6, 7, 8, 9],\n",
       " [0, 1, 2, 3, 4, 5, 6, 7, 8, 9],\n",
       " [0, 1, 2, 3, 4, 5, 6, 7, 8, 9]]"
      ]
     },
     "execution_count": 54,
     "metadata": {},
     "output_type": "execute_result"
    }
   ],
   "source": [
    "data_sequence_list = [[num for num in range(10)] for _ in range(5000)]\n",
    "\n",
    "# Print out the first five rows of the list.\n",
    "data_sequence_list[:5]\n"
   ]
  },
  {
   "cell_type": "code",
   "execution_count": 64,
   "id": "6de62f89",
   "metadata": {},
   "outputs": [
    {
     "name": "stdout",
     "output_type": "stream",
     "text": [
      "[0 1 2 3 4]\n",
      "[5 6 7 8 9]\n",
      "[0 1 2 3 4]\n",
      "[5 6 7 8 9]\n",
      "[0 1 2 3 4]\n"
     ]
    }
   ],
   "source": [
    "chunksize = 5\n",
    "axis = 0\n",
    "\n",
    "sequence_producer = producer(data_sequence_list, chunksize=chunksize, axis=axis)\n",
    "\n",
    "# Here, again, we convert the iterable Producer into a list so we can access just the first few elements.\n",
    "# Do not do this in practice.\n",
    "sequence_producer_list = list(sequence_producer)\n",
    "\n",
    "for i in range(5):\n",
    "    print(sequence_producer_list[i])"
   ]
  },
  {
   "cell_type": "markdown",
   "id": "ef82d91a",
   "metadata": {},
   "source": [
    "Showing off once more, this time with a tuple object to demonstrate the general use for any sequence object."
   ]
  },
  {
   "cell_type": "code",
   "execution_count": 75,
   "id": "21abefa9",
   "metadata": {},
   "outputs": [
    {
     "name": "stdout",
     "output_type": "stream",
     "text": [
      "[0 1 2 3 4]\n",
      "[5 6 7 8 9]\n",
      "[0 1 2 3 4]\n",
      "[5 6 7 8 9]\n",
      "[0 1 2 3 4]\n"
     ]
    }
   ],
   "source": [
    "arrs = [[num for num in range(10)] for _ in range(5000)]\n",
    "data_sequence_tuple = (arrs[:])\n",
    "\n",
    "sequence_producer2 = producer(data_sequence_tuple, chunksize=chunksize, axis=axis)\n",
    "\n",
    "sequence_producer_list = list(sequence_producer)\n",
    "\n",
    "for i in range(5):\n",
    "    print(sequence_producer_list[i])"
   ]
  },
  {
   "cell_type": "markdown",
   "id": "336edb32",
   "metadata": {},
   "source": [
    "### From binary files (e.g. EDFs)"
   ]
  },
  {
   "cell_type": "code",
   "execution_count": null,
   "id": "1c20b5a1",
   "metadata": {},
   "outputs": [],
   "source": []
  },
  {
   "cell_type": "markdown",
   "id": "940f4d3c",
   "metadata": {},
   "source": [
    "### From Generator Functions"
   ]
  },
  {
   "cell_type": "code",
   "execution_count": null,
   "id": "e675c297",
   "metadata": {},
   "outputs": [],
   "source": []
  },
  {
   "cell_type": "markdown",
   "id": "19bc660a",
   "metadata": {},
   "source": [
    "### From other Producers"
   ]
  },
  {
   "cell_type": "markdown",
   "id": "9ad6f940",
   "metadata": {},
   "source": [
    "One possible use case you might run into is that you'd want to reshape the data that you've already inserted into a Producer, or would rather split it by a different axis. This can be done by directly passing an existing Producer into the instantiation of another one, as we show below."
   ]
  },
  {
   "cell_type": "code",
   "execution_count": 96,
   "id": "27a6290f",
   "metadata": {},
   "outputs": [
    {
     "name": "stdout",
     "output_type": "stream",
     "text": [
      "[[  0   1   2   3   4   5   6   7   8   9  10  11  12  13  14  15  16  17\n",
      "   18  19  20  21  22  23  24]\n",
      " [ 25  26  27  28  29  30  31  32  33  34  35  36  37  38  39  40  41  42\n",
      "   43  44  45  46  47  48  49]\n",
      " [ 50  51  52  53  54  55  56  57  58  59  60  61  62  63  64  65  66  67\n",
      "   68  69  70  71  72  73  74]\n",
      " [ 75  76  77  78  79  80  81  82  83  84  85  86  87  88  89  90  91  92\n",
      "   93  94  95  96  97  98  99]\n",
      " [100 101 102 103 104 105 106 107 108 109 110 111 112 113 114 115 116 117\n",
      "  118 119 120 121 122 123 124]]\n"
     ]
    }
   ],
   "source": [
    "base_array = np.arange(500).reshape(20, -1)\n",
    "\n",
    "chunksize = 5\n",
    "axis = 0\n",
    "\n",
    "initial_producer = producer(base_array, chunksize=chunksize, axis=axis)\n",
    "\n",
    "producer_list = list(initial_producer)\n",
    "\n",
    "for i in range(1):\n",
    "    print(producer_list[i])"
   ]
  },
  {
   "cell_type": "code",
   "execution_count": 85,
   "id": "eb32fef9",
   "metadata": {},
   "outputs": [
    {
     "name": "stdout",
     "output_type": "stream",
     "text": [
      "[[   0    1    2 ...  247  248  249]\n",
      " [ 250  251  252 ...  497  498  499]\n",
      " [ 500  501  502 ...  747  748  749]\n",
      " ...\n",
      " [1750 1751 1752 ... 1997 1998 1999]\n",
      " [2000 2001 2002 ... 2247 2248 2249]\n",
      " [2250 2251 2252 ... 2497 2498 2499]]\n",
      "[[2500 2501 2502 ... 2747 2748 2749]\n",
      " [2750 2751 2752 ... 2997 2998 2999]\n",
      " [3000 3001 3002 ... 3247 3248 3249]\n",
      " ...\n",
      " [4250 4251 4252 ... 4497 4498 4499]\n",
      " [4500 4501 4502 ... 4747 4748 4749]\n",
      " [4750 4751 4752 ... 4997 4998 4999]]\n"
     ]
    }
   ],
   "source": [
    "# Change the chunksize and axis to something new\n",
    "chunksize = 10\n",
    "axis = 0\n",
    "\n",
    "# Create a new producer from the old one\n",
    "new_producer = producer(initial_producer, chunksize=chunksize, axis=axis)\n",
    "\n",
    "producer_list = list(new_producer)\n",
    "\n",
    "for i in range(2):\n",
    "    print(producer_list[i])"
   ]
  },
  {
   "cell_type": "code",
   "execution_count": null,
   "id": "dbc836ad",
   "metadata": {},
   "outputs": [],
   "source": []
  }
 ],
 "metadata": {
  "kernelspec": {
   "display_name": "Python 3.10.4 ('mingshanlab')",
   "language": "python",
   "name": "python3"
  },
  "language_info": {
   "codemirror_mode": {
    "name": "ipython",
    "version": 3
   },
   "file_extension": ".py",
   "mimetype": "text/x-python",
   "name": "python",
   "nbconvert_exporter": "python",
   "pygments_lexer": "ipython3",
   "version": "3.10.4"
  },
  "vscode": {
   "interpreter": {
    "hash": "21111e9c398152cbb2b83bf6ccb103d3c98f63d2d8482bc87b694abdf39db91d"
   }
  }
 },
 "nbformat": 4,
 "nbformat_minor": 5
}
