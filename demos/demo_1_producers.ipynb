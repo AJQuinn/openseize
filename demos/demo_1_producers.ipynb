{
 "cells": [
  {
   "cell_type": "markdown",
   "id": "e4f35606",
   "metadata": {},
   "source": [
    "# Demo 1: Producers"
   ]
  },
  {
   "cell_type": "markdown",
   "id": "6b05190d",
   "metadata": {},
   "source": [
    "- [Introduction](#Introduction)\n",
    "- [Creation Routines](#Creation-Routines)\n",
    "    - [From arrays](#From-arrays)\n",
    "    - [From sequences](#From-Sequences)\n",
    "    - [From binary files](#From-binary-files)\n",
    "    - [From generating functions](#From-generating-functions)\n",
    "    - [From producers](#From-producers)\n",
    "- [Producers-to-arrays](#Producers-to-arrays)\n",
    "- [Masked Producers](#Masked-Producers) "
   ]
  },
  {
   "cell_type": "code",
   "execution_count": 1,
   "id": "3b6d9d77",
   "metadata": {},
   "outputs": [],
   "source": [
    "import numpy as np\n",
    "import matplotlib.pyplot as plt\n",
    "\n",
    "from openseize import producer\n",
    "from openseize.io.edf import Reader"
   ]
  },
  {
   "cell_type": "markdown",
   "id": "fcc4e672",
   "metadata": {},
   "source": [
    "## Introduction"
   ]
  },
  {
   "cell_type": "code",
   "execution_count": null,
   "id": "6a7d50a1",
   "metadata": {},
   "outputs": [],
   "source": []
  },
  {
   "cell_type": "markdown",
   "id": "d3fd2d6e",
   "metadata": {},
   "source": [
    "## Creation Routines"
   ]
  },
  {
   "cell_type": "code",
   "execution_count": null,
   "id": "0b5c1b17",
   "metadata": {},
   "outputs": [],
   "source": []
  },
  {
   "cell_type": "markdown",
   "id": "d1131c6d",
   "metadata": {},
   "source": [
    "### From arrays"
   ]
  },
  {
   "cell_type": "code",
   "execution_count": null,
   "id": "fd66a954",
   "metadata": {},
   "outputs": [],
   "source": []
  }
 ],
 "metadata": {
  "kernelspec": {
   "display_name": "Python 3",
   "language": "python",
   "name": "python3"
  },
  "language_info": {
   "codemirror_mode": {
    "name": "ipython",
    "version": 3
   },
   "file_extension": ".py",
   "mimetype": "text/x-python",
   "name": "python",
   "nbconvert_exporter": "python",
   "pygments_lexer": "ipython3",
   "version": "3.9.6"
  }
 },
 "nbformat": 4,
 "nbformat_minor": 5
}
