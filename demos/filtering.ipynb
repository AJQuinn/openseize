{
 "cells": [
  {
   "cell_type": "markdown",
   "id": "a03ffd22",
   "metadata": {},
   "source": [
    "                                                                                                MSC 10-2022"
   ]
  },
  {
   "cell_type": "markdown",
   "id": "c97f7c6c",
   "metadata": {},
   "source": [
    "# Filtering"
   ]
  },
  {
   "cell_type": "markdown",
   "id": "16adfc9e",
   "metadata": {},
   "source": [
    "- [**Imports**](#Imports)\n",
    "- [**Introduction**](#Introduction)\n",
    "- [**Finite Impulse Response Filters (FIR)**](#Finite-Impulse-Response-Filters-(FIR))\n",
    "    - [**Mathematics**](#Mathematics)\n",
    "    - [**Design Methods**](#Design-Method)\n",
    "        - [**FIR Filter Design in Openseize**](#FIR-Filter-Design-in-Openseize)\n",
    "        - [**General Cosine Windows**](#General-Cosine-Windows)\n",
    "        - [**Kaiser Windows**](#Kaiser-Windows)\n",
    "        - [**Minimax Window Method**](#Minimax-Window-Method)\n",
    "        - [**Practical Considerations & Recommendations**](#Practical-Considerations-&-Recommendations)\n",
    "- [**Infinite Impulse Response Filters (IIR)**](#Infinite-Impulse-Response-Filters-(FIR))\n",
    "    - [**Mathematics**](#Mathematics)\n",
    "    - [**IIR Filter Design in Openseize**](#IIR-Filter-Design-in-Openseize)\n",
    "    - [**Transfer Function Coeffecient Formats**](#Transfer-Function-Coeffecient-Formats)\n",
    "    - [**Practical Considerations & Recommendations**](#Practical-Considerations-&-Recommendations)\n",
    "- [**Notch Filters**](#Notch-Filters) \n",
    "- [**Appendix**](#Appendix)"
   ]
  },
  {
   "cell_type": "markdown",
   "id": "422ce4fe",
   "metadata": {},
   "source": [
    "## Imports"
   ]
  },
  {
   "cell_type": "code",
   "execution_count": 1,
   "id": "894abe7e",
   "metadata": {},
   "outputs": [],
   "source": [
    "import numpy as np\n",
    "import scipy as sp\n",
    "import matplotlib.pyplot as plt\n",
    "\n",
    "from openseize import filtering"
   ]
  },
  {
   "cell_type": "markdown",
   "id": "b2b29ea5",
   "metadata": {},
   "source": [
    "## Introduction"
   ]
  },
  {
   "cell_type": "markdown",
   "id": "0698dae3",
   "metadata": {},
   "source": [
    "This tutorial covers the mathematics, design and application of filters in Openseize. Since this is a deep subject, the tutorial can be approached in two ways. First, readers that are interested in understanding the principles that govern filter design methods, the sections headed by \"Mathematics\" are a starting point and include references for deeper study. Second, readers who are only interested in the practical implementation of each filter can safely skip these sections but be sure to carefully read the \"Practical Considerations and Recommendations\" sections.\n",
    "</br>\n",
    "</br>\n",
    "Lastly it is important to remember that there are two stages to filtering data. The first is to design a filter that meets a specific set of design criteria and second to apply the filter to a potentially very large data set. Openseize streamlines these two processes by allowing clients to create filter objects with methods that handle both the filter design and the iterative application of the filter to data that may not fit into RAM. The application of the filter to large data is carried out using the overlap-add method for FIR filters and initial conditioning for IIR filters. This tutorial does not specifically address those algorithms. For details on this iterative implementation of filters, please see the openseize.numerical module. It has detailed documentation on the nitty-gritty of applying filters to large datasets.  "
   ]
  },
  {
   "cell_type": "markdown",
   "id": "8d8c29aa",
   "metadata": {},
   "source": [
    "## Finite Impulse Response Filters (FIR)"
   ]
  },
  {
   "cell_type": "markdown",
   "id": "0b98a6d1",
   "metadata": {},
   "source": [
    "### Mathematics"
   ]
  },
  {
   "cell_type": "markdown",
   "id": "e3675506",
   "metadata": {},
   "source": [
    "A Finite Impulse Response filter is a set of coeffecients $h[n]$ used to weight previous signal samples $x[n]$ to yield each filtered output $y[n]$.\n",
    "</br>\n",
    "</br>\n",
    "<center> $y[n] = \\sum \\limits_{i=0}^{N} h[i] \\ x[n-i] \\quad (1)$ </center>"
   ]
  },
  {
   "cell_type": "markdown",
   "id": "53b7516a",
   "metadata": {},
   "source": [
    "This operation, called convolution, requires N multiplications and N additions for each output value $y[n]$.\n",
    "<b> Our goal is to find a set of N coeffecients for $h$ such that the frequency response of the filter meets a set of design criteria while keeping the filter order, N, low.</b>. \n",
    "</br>\n",
    "</br>\n",
    "\n",
    "Openseize defaults to using Type I FIR filters which means that that the filter order is an even number N=2M and the filter has an initial phase $\\phi_0 = 0$. Since the sum in (1) runs from 0 to N there are N+1 total terms. This number (N+1) is called the number of taps. To find a good set of coeffecients for h, we start by defining what the ideal response of the filter should be in the frequency domain. To keep things general lets assume we are designing a bandpass filter from $\\theta_1$ to $\\theta_2$ where $\\theta$ is in units of rads/sec."
   ]
  },
  {
   "cell_type": "markdown",
   "id": "af1bab4a",
   "metadata": {},
   "source": [
    "The <b>ideal amplitude response</b> of our bandpass filter is then:\n",
    "</br>\n",
    "</br>\n",
    "<center> $A_{d}(\\theta) = \\begin{cases}\n",
    "                            1 & \\theta_1 \\leq |\\theta| \\leq \\theta_2 \\\\\n",
    "                            0 & otherwise\n",
    "                       \\end{cases} \\quad (2)$\n",
    "</center>\n",
    "</br>\n",
    "</br>\n",
    "Lets now write a function that creates this ideal amplitude response and plot an example."
   ]
  },
  {
   "cell_type": "code",
   "execution_count": 28,
   "id": "fca7a2fe",
   "metadata": {},
   "outputs": [],
   "source": [
    "def ideal_amplitude_response(low, high, n=1000):\n",
    "    \"\"\"Creates the ideal amplitude response of a bandpass filter.\n",
    "    \n",
    "    Args:\n",
    "        low: float\n",
    "            The low frequency cutoff in rads/sec.\n",
    "        high: float\n",
    "            The high frequency cutoff in rads/sec.\n",
    "        n: int\n",
    "            The number of frequencies between 0 and Nyquist = pi radians to return amplitudes at. \n",
    "            Default is 1000 frequencies.\n",
    "            \n",
    "    Returns: An array of frequencies between 0 and 1 and an array of corresponding amplitudes.\n",
    "    \"\"\"\n",
    "    \n",
    "    thetas = np.linspace(0, 1, 1000)\n",
    "    amplitudes = (thetas >= low / np.pi) & (thetas <= high / np.pi)\n",
    "    return thetas, amplitudes"
   ]
  },
  {
   "cell_type": "code",
   "execution_count": 32,
   "id": "3bddced6",
   "metadata": {},
   "outputs": [],
   "source": [
    "def plot_ideal_response(thetas, amplitudes, ax, n=1000):\n",
    "    \"\"\"Plots the ideal amplitude response of a bandpass filter to an axis.\n",
    "    \n",
    "    Args:\n",
    "        thetas: 1-D array\n",
    "            Array of frequencies between 0 and 1.\n",
    "        amplitudes: 1-D array\n",
    "            Array of amplitudes, one for each theta in thetas.\n",
    "        ax: mpl axis\n",
    "            A matplotlib axis to display to.\n",
    "        n: int\n",
    "            The number of frequencies between 0 and Nyquist = pi radians to return amplitudes at. \n",
    "            Default is 1000 frequencies.\n",
    "    \"\"\"\n",
    "    \n",
    "    ax.plot(thetas, amplitudes, color='k')\n",
    "    ax.spines.top.set_visible(False)\n",
    "    ax.spines.right.set_visible(False)\n",
    "    ax.set_xlabel(r'$\\theta$', fontsize=14)\n",
    "    ax.set_ylabel(r'$A_d(\\theta)$', fontsize=14)"
   ]
  },
  {
   "cell_type": "code",
   "execution_count": 33,
   "id": "f1cff65b",
   "metadata": {},
   "outputs": [
    {
     "data": {
      "image/png": "[encoded data removed]",
      "text/plain": [
       "<Figure size 432x288 with 1 Axes>"
      ]
     },
     "metadata": {
      "needs_background": "light"
     },
     "output_type": "display_data"
    }
   ],
   "source": [
    "low = 0.2 * np.pi\n",
    "high = 0.6 * np.pi\n",
    "thetas, amplitudes = ideal_amplitude_response(low, high, n=1000)\n",
    "\n",
    "fig, ax = plt.subplots()\n",
    "plot_ideal_response(thetas, amplitudes, ax)\n",
    "plt.show()"
   ]
  },
  {
   "cell_type": "markdown",
   "id": "69cf4b07",
   "metadata": {},
   "source": [
    "The ideal amplitude response (Eq. 2) is part of the <b>ideal frequency response</b> $H_d^f(\\theta)$ of the FIR filter. The frequency response includes the amplitude response and the phase of the filter.\n",
    "</br>\n",
    "</br>\n",
    "<center>$H_d^f(\\theta) = A_d(\\theta)\\ e^{-i\\theta N/2} \\quad (3) $ </center>"
   ]
  },
  {
   "cell_type": "markdown",
   "id": "763521f3",
   "metadata": {},
   "source": [
    "The phase delay tells us that the filtered output y[n] will be **delayed** relative to x[n]. For Type I FIR filters (openseize's default), this delay is a constant N/2.\n",
    "</br>\n",
    "</br>\n",
    "<b>Remember our goal, we want to find $h[n]$</b>. Since we have the ideal frequency response (3) we can use the inverse Fourier transform to get the ideal/desired filter $h_d[n]$.\n",
    "</br>\n",
    "</br>\n",
    "By substituting 2 into 3 and taking the inverse Fourier transform we get $h_d[n]$ also called the ideal impulse response:"
   ]
  },
  {
   "cell_type": "markdown",
   "id": "085afb5f",
   "metadata": {},
   "source": [
    "<center> $h_d[n] = \\frac{1}{2\\pi} \\int \\limits_{-\\theta_2}^{\\theta_1}e^{i \\theta (n-N/2)} d\\theta + \\frac{1}{2\\pi} \\int \\limits_{\\theta_1}^{\\theta_2}e^{i \\theta (n-N/2)}d\\theta \\quad (4)$\n",
    "</br>\n",
    "</br>\n",
    "$= \\frac{\\sin(\\theta_2(n-N/2))}{\\pi(n-N/2)} - \\frac{\\sin(\\theta_1(n-N/2))}{\\pi(n-N/2)} \\quad (5)$\n",
    "</br>\n",
    "</br>\n",
    "$= \\frac{\\theta_2}{\\pi}sinc[\\frac{\\theta_2(n-N/2)}{\\pi}]- \\frac{\\theta_1}{\\pi}sinc[\\frac{\\theta_1(n-N/2)}{\\pi}] \\quad (6)$"
   ]
  },
  {
   "cell_type": "markdown",
   "id": "0bae4480",
   "metadata": {},
   "source": [
    "Notice that $h_d[n]$ is a <b>function</b> of n where n is an integer, it is <b>defined for all integers n!</b> So in order to create a filter we can actually apply, we must <font color='firebrick'><b><u>TRUNCATE</b></u></font> $h_d[n]$. \n",
    "</br>\n",
    "</br>\n",
    "<center> $h[n] = \\begin{cases}\n",
    "                            h_d[n] & 0 \\leq n \\leq N \\\\\n",
    "                            0 & otherwise\n",
    "                       \\end{cases} \\quad (7)$\n",
    "</center>"
   ]
  },
  {
   "cell_type": "markdown",
   "id": "ae7f66cd",
   "metadata": {},
   "source": [
    "Lets build a function that computes the truncated impulse response $h[n]$."
   ]
  },
  {
   "cell_type": "code",
   "execution_count": 10,
   "id": "a691c53e",
   "metadata": {},
   "outputs": [],
   "source": [
    "def truncated_impulse(low, high, N):\n",
    "    \"\"\"Returns a truncated impulse response function h[n] of a Type I FIR.\n",
    "    \n",
    "    Args:\n",
    "        low: float\n",
    "            The low frequency cutoff in rads/sec.\n",
    "        high: float\n",
    "            The high frequency cutoff in rads/sec.\n",
    "        N: int\n",
    "            The order of the filter. Must be an even number\n",
    "            \n",
    "    Returns: An array of truncated filter coeffecients\n",
    "    \"\"\"\n",
    "    \n",
    "    ns = np.arange(N)\n",
    "    \n",
    "    #Eq 6\n",
    "    return high/np.pi * np.sinc(high/np.pi * (ns - N//2)) - low/np.pi * np.sinc(low/np.pi * (ns - N//2))"
   ]
  },
  {
   "cell_type": "code",
   "execution_count": 24,
   "id": "3ab94e77",
   "metadata": {},
   "outputs": [],
   "source": [
    "def plot_impulse(h, ax):\n",
    "    \"\"\"Plots the impulse response to a matplotlib axis.\"\"\"\n",
    "    \n",
    "    ax.stem(h, label='N = {}'.format(len(h)))\n",
    "    ax.set_ylabel('h[n]', fontsize=14)\n",
    "    ax.set_xlabel('n', fontsize=14)\n",
    "    ax.legend()"
   ]
  },
  {
   "cell_type": "code",
   "execution_count": 25,
   "id": "b882bfb3",
   "metadata": {},
   "outputs": [
    {
     "data": {
      "image/png": "[encoded data removed]",
      "text/plain": [
       "<Figure size 432x288 with 1 Axes>"
      ]
     },
     "metadata": {
      "needs_background": "light"
     },
     "output_type": "display_data"
    }
   ],
   "source": [
    "# show the impulse response for our example bandpass filter\n",
    "h = truncated_impulse(low, high, N=40)\n",
    "fig, ax = plt.subplots()\n",
    "plot_impulse(h, ax)\n",
    "plt.show()"
   ]
  },
  {
   "cell_type": "markdown",
   "id": "b4f87394",
   "metadata": {},
   "source": [
    "<b>What does truncating the impulse response $h_d[n] \\rightarrow h[n]$ do to the ideal amplitude response $A_d(\\theta) \\rightarrow \\ ?$"
   ]
  },
  {
   "cell_type": "markdown",
   "id": "e2260593",
   "metadata": {},
   "source": [
    "The frequency response of the filter is the Fourier transform of the truncated impulse response $h[n]$.\n",
    "</br>\n",
    "</br>\n",
    "<center>$H^f(\\theta) = \\sum \\limits_{n=0}^{2M}h[n]e^{-i \\theta n} \\quad (8)$ </center>\n",
    "</br>\n",
    "</br>\n",
    "Since Type I FIR filters are symmetric $h[n] = h[N-n]$ where N=2M is the length of the filter. Using this symmetry we can write:\n",
    "</br>\n",
    "</br>\n",
    "<center>\n",
    "$\n",
    "\\begin{align}\n",
    "H^f(\\theta) &= \\sum \\limits_{n=0}^{2M}h[n]e^{-i \\theta n} =  \\sum \\limits_{n=0}^{2M} h[n]e^{-i \\theta M}e^{i \\theta (M-n)} \\\\\n",
    "&= e^{-i \\theta M} \\left\\{\\sum \\limits_{n=0}^{2M} h[n] \\ e^{i \\theta (M-n)} \\right\\} \\\\\n",
    "&= e^{-i \\theta M} \\left\\{h[M] + \\sum \\limits_{n=0}^{M-1} h[n] \\ e^{i \\theta (M-n)} + \\sum \\limits_{n=M+1}^{2M} h[n] \\ e^{i \\theta (M-n)}\\right\\}\\\\\n",
    "& \\ letting \\ n' =  N-n \\ and \\ rename \\ n' = n\\\\\n",
    "&= e^{-i \\theta M} \\left\\{h[M] + \\sum \\limits_{n=0}^{M-1} h[n] \\ e^{i \\theta (M-n)} + \\sum \\limits_{n=0}^{M-1} h[N-n] \\ e^{i \\theta (M-n)}\\right\\}\\\\\n",
    "&= e^{-i \\theta M} \\left\\{h[M] + 2 \\sum \\limits_{n=0}^{M-1} h[n]cos[\\theta (M-n)] \\right\\} \\quad (8)\n",
    "\\end{align}\n",
    "$\n",
    "</center>\n",
    "</br>\n",
    "So the amplitude response after truncation is:\n",
    "<center>\n",
    "    $A(\\theta) = \\left\\{h[M] + 2 \\sum \\limits_{n=0}^{M-1} h[n]cos[\\theta (M-n)] \\right\\} \\quad (9)$\n",
    "</center>"
   ]
  },
  {
   "cell_type": "markdown",
   "id": "63bc643c",
   "metadata": {},
   "source": [
    "Lets write a function for the truncated amplitude response."
   ]
  },
  {
   "cell_type": "code",
   "execution_count": 27,
   "id": "659aa763",
   "metadata": {},
   "outputs": [],
   "source": [
    "def amplitude_response(h, nthetas=1000):\n",
    "    \"\"\"Returns the amplitude response of a truncated Type I FIR filter (Eq. 9).\n",
    "    \n",
    "    Args:\n",
    "        h: 1-D array\n",
    "            An array of truncated filter coeffecients.\n",
    "        nthetas: int\n",
    "            The number of frequencies in rads/sec to evaluate the amplitude response at.\n",
    "            \n",
    "    Returns:\n",
    "        A 1-D array of size nthetas from 0 to 1 and a 1-D array of size nthetas of amplitude responses.\n",
    "    \"\"\"\n",
    "    \n",
    "    M = len(h) // 2\n",
    "    thetas = np.linspace(0, np.pi, nthetas)\n",
    "    \n",
    "    # initialize the results at each theta with h[M]\n",
    "    result = h[M] * np.ones(nthetas)\n",
    "    \n",
    "    # add the sum contribution to each theta in result\n",
    "    for idx, theta in enumerate(thetas):\n",
    "        \n",
    "        result[idx] += np.sum([2 * h[M-n] * np.cos(theta * n) for n in range(1, M+1)])\n",
    "    \n",
    "    return thetas, result\n",
    "    "
   ]
  },
  {
   "cell_type": "code",
   "execution_count": 34,
   "id": "ff39bef0",
   "metadata": {},
   "outputs": [],
   "source": [
    "# lets also make a function that will plot the amplitude response\n",
    "def plot_response(thetas, response, ax):\n",
    "    \"\"\"Plots the truncated amplitude response to a matplotlib axis.\"\"\"\n",
    "    \n",
    "    ax.plot(thetas, response)\n",
    "    ax.spines.top.set_visible(False)\n",
    "    ax.spines.right.set_visible(False)\n",
    "    ax.set_xlabel(r'$\\theta$', fontsize=14)\n",
    "    ax.set_ylabel(r'$A(\\theta)$', fontsize=14)"
   ]
  },
  {
   "cell_type": "markdown",
   "id": "d2d0b352",
   "metadata": {},
   "source": [
    "Ok so lets pause and review what we have. We have the ideal amplitude response $A_d(\\theta)$ that we want to approximate, we have a truncated impulse response $h[n]$ and we have the truncated amplitude response $A(\\theta)$. So lets compare how well the truncated amplitude response matches our desired ideal response for a range of filter orders."
   ]
  },
  {
   "cell_type": "code",
   "execution_count": null,
   "id": "d6c8f7d3",
   "metadata": {},
   "outputs": [],
   "source": [
    "#draw together the truncated impulse responses and amplitude responses for several different orders of filters\n",
    "#for our bandpass example"
   ]
  },
  {
   "cell_type": "code",
   "execution_count": 26,
   "id": "a680cb71",
   "metadata": {},
   "outputs": [
    {
     "ename": "NameError",
     "evalue": "name 'theta2' is not defined",
     "output_type": "error",
     "traceback": [
      "\u001b[0;31m---------------------------------------------------------------------------\u001b[0m",
      "\u001b[0;31mNameError\u001b[0m                                 Traceback (most recent call last)",
      "Input \u001b[0;32mIn [26]\u001b[0m, in \u001b[0;36m<cell line: 4>\u001b[0;34m()\u001b[0m\n\u001b[1;32m      1\u001b[0m n40 \u001b[38;5;241m=\u001b[39m np\u001b[38;5;241m.\u001b[39marange(\u001b[38;5;241m0\u001b[39m, \u001b[38;5;241m40\u001b[39m)\n\u001b[1;32m      2\u001b[0m n80 \u001b[38;5;241m=\u001b[39m np\u001b[38;5;241m.\u001b[39marange(\u001b[38;5;241m0\u001b[39m, \u001b[38;5;241m80\u001b[39m)\n\u001b[0;32m----> 4\u001b[0m hd_40 \u001b[38;5;241m=\u001b[39m \u001b[43mtheta2\u001b[49m \u001b[38;5;241m*\u001b[39m np\u001b[38;5;241m.\u001b[39msinc(theta2 \u001b[38;5;241m*\u001b[39m (n40 \u001b[38;5;241m-\u001b[39m \u001b[38;5;241m40\u001b[39m\u001b[38;5;241m/\u001b[39m\u001b[38;5;241m2\u001b[39m)) \u001b[38;5;241m-\u001b[39m \\\n\u001b[1;32m      5\u001b[0m         theta1 \u001b[38;5;241m*\u001b[39m np\u001b[38;5;241m.\u001b[39msinc(theta1 \u001b[38;5;241m*\u001b[39m (n40 \u001b[38;5;241m-\u001b[39m \u001b[38;5;241m40\u001b[39m\u001b[38;5;241m/\u001b[39m\u001b[38;5;241m2\u001b[39m))\n\u001b[1;32m      7\u001b[0m \u001b[38;5;66;03m# see 9.5 for amplitude response\u001b[39;00m\n\u001b[1;32m      8\u001b[0m \u001b[38;5;28;01mdef\u001b[39;00m \u001b[38;5;21mamplitude_response\u001b[39m(h, thetas\u001b[38;5;241m=\u001b[39mnp\u001b[38;5;241m.\u001b[39mlinspace(\u001b[38;5;241m0\u001b[39m, np\u001b[38;5;241m.\u001b[39mpi, \u001b[38;5;241m1000\u001b[39m)):\n",
      "\u001b[0;31mNameError\u001b[0m: name 'theta2' is not defined"
     ]
    }
   ],
   "source": [
    "#DEPRECATE!!!!!!!!!!!!!\n",
    "n40 = np.arange(0, 40)\n",
    "n80 = np.arange(0, 80)\n",
    "\n",
    "hd_40 = theta2 * np.sinc(theta2 * (n40 - 40/2)) - \\\n",
    "        theta1 * np.sinc(theta1 * (n40 - 40/2))\n",
    "\n",
    "# see 9.5 for amplitude response\n",
    "def amplitude_response(h, thetas=np.linspace(0, np.pi, 1000)):\n",
    "    \"\"\" \"\"\"\n",
    "    \n",
    "    M = len(h)//2\n",
    "    result = []\n",
    "    for theta in thetas:\n",
    "        term = 0\n",
    "        for n in range(0, M+1):\n",
    "            if n==0:\n",
    "                term = h[M]\n",
    "            else:\n",
    "                term += 2*h[M-n]*np.cos(theta*n)\n",
    "        result.append(term)\n",
    "    return result\n",
    "        \n",
    "Ad_40 = amplitude_response(hd_40)\n",
    "    \n",
    "#Ad_40 = np.abs(np.fft.fft(hd_40, n=512, axis=0))\n",
    "\n",
    "hd_80 = theta2 * np.sinc(theta2 * (n80 - 80/2)) - \\\n",
    "        theta1 * np.sinc(theta1 * (n80 - 80/2))\n",
    "Ad_80 = amplitude_response(hd_80)\n",
    "\n",
    "fig, axarr = plt.subplots(1, 2, figsize=(10,4))\n",
    "axarr[0].stem(hd_40)\n",
    "axarr[1].plot(thetas, amplitudes, label=r'$A_d(\\theta)$')\n",
    "f = np.linspace(0,1, len(Ad_80))\n",
    "axarr[1].plot(f, Ad_80)\n",
    "plt.show()"
   ]
  },
  {
   "cell_type": "code",
   "execution_count": null,
   "id": "7cc778d0",
   "metadata": {},
   "outputs": [],
   "source": []
  }
 ],
 "metadata": {
  "kernelspec": {
   "display_name": "Python 3 (ipykernel)",
   "language": "python",
   "name": "python3"
  },
  "language_info": {
   "codemirror_mode": {
    "name": "ipython",
    "version": 3
   },
   "file_extension": ".py",
   "mimetype": "text/x-python",
   "name": "python",
   "nbconvert_exporter": "python",
   "pygments_lexer": "ipython3",
   "version": "3.9.12"
  }
 },
 "nbformat": 4,
 "nbformat_minor": 5
}
