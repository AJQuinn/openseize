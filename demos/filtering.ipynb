{
 "cells": [
  {
   "cell_type": "markdown",
   "id": "a03ffd22",
   "metadata": {},
   "source": [
    "                                                                                                MSC 10-2022"
   ]
  },
  {
   "cell_type": "markdown",
   "id": "c97f7c6c",
   "metadata": {},
   "source": [
    "# Filtering"
   ]
  },
  {
   "cell_type": "markdown",
   "id": "16adfc9e",
   "metadata": {},
   "source": [
    "- [**Imports**](#Imports)\n",
    "- [**Introduction**](#Introduction)\n",
    "- [**Finite Impulse Response Filters (FIR)**](#Finite-Impulse-Response-Filters-(FIR))\n",
    "    - [**Mathematics**](#Mathematics)\n",
    "    - [**Design Methods**](#Design-Method)\n",
    "        - [**FIR Filter Design in Openseize**](#FIR-Filter-Design-in-Openseize)\n",
    "        - [**General Cosine Windows**](#General-Cosine-Windows)\n",
    "        - [**Kaiser Windows**](#Kaiser-Windows)\n",
    "        - [**Minimax Window Method**](#Minimax-Window-Method)\n",
    "        - [**Practical Considerations & Recommendations**](#Practical-Considerations-&-Recommendations)\n",
    "- [**Infinite Impulse Response Filters (IIR)**](#Infinite-Impulse-Response-Filters-(FIR))\n",
    "    - [**Mathematics**](#Mathematics)\n",
    "    - [**IIR Filter Design in Openseize**](#IIR-Filter-Design-in-Openseize)\n",
    "    - [**Transfer Function Coeffecient Formats**](#Transfer-Function-Coeffecient-Formats)\n",
    "    - [**Practical Considerations & Recommendations**](#Practical-Considerations-&-Recommendations)\n",
    "- [**Notch Filters**](#Notch-Filters) \n",
    "- [**Appendix**](#Appendix)"
   ]
  },
  {
   "cell_type": "markdown",
   "id": "422ce4fe",
   "metadata": {},
   "source": [
    "## Imports"
   ]
  },
  {
   "cell_type": "code",
   "execution_count": 85,
   "id": "894abe7e",
   "metadata": {},
   "outputs": [],
   "source": [
    "import numpy as np\n",
    "import scipy as sp\n",
    "import matplotlib.pyplot as plt\n",
    "\n",
    "from openseize import filtering"
   ]
  },
  {
   "cell_type": "markdown",
   "id": "b2b29ea5",
   "metadata": {},
   "source": [
    "## Introduction"
   ]
  },
  {
   "cell_type": "markdown",
   "id": "0698dae3",
   "metadata": {},
   "source": [
    "This tutorial covers the mathematics, design and application of filters in Openseize. Since this is a deep subject, the tutorial can be approached in two ways. First, readers that are interested in understanding the principles that govern filter design methods, the sections headed by \"Mathematics\" are a starting point and include references for deeper study. Second, readers who are only interested in the practical implementation of each filter can safely skip these sections but be sure to carefully read the \"Practical Considerations and Recommendations\" sections.\n",
    "</br>\n",
    "</br>\n",
    "Lastly it is important to remember that there are two stages to filtering data. The first is to design a filter that meets a specific set of design criteria and second to apply the filter to a potentially very large data set. Openseize streamlines these two processes by allowing clients to create filter objects with methods that handle both the filter design and the iterative application of the filter to data that may not fit into RAM. The application of the filter to large data is carried out using the overlap-add method for FIR filters and initial conditioning for IIR filters. This tutorial does not specifically address those algorithms. For details on this iterative implementation of filters, please see the openseize.numerical module. It has detailed documentation on the nitty-gritty of applying filters to large datasets.  "
   ]
  },
  {
   "cell_type": "markdown",
   "id": "8d8c29aa",
   "metadata": {},
   "source": [
    "## Finite Impulse Response Filters (FIR)"
   ]
  },
  {
   "cell_type": "markdown",
   "id": "0b98a6d1",
   "metadata": {},
   "source": [
    "### Mathematics"
   ]
  },
  {
   "cell_type": "markdown",
   "id": "e3675506",
   "metadata": {},
   "source": [
    "A Finite Impulse Response filter is a set of coeffecients $h[n]$ used to weight previous signal samples $x[n]$ to yield each filtered output $y[n]$. This process is called convolution and is written as:\n",
    "</br>\n",
    "</br>\n",
    "<center> $y[n] = \\sum \\limits_{i=0}^{N} h[i] \\ x[n-i] \\quad (1)$ </center>"
   ]
  },
  {
   "cell_type": "markdown",
   "id": "53b7516a",
   "metadata": {},
   "source": [
    "Openseize defaults to using Type I FIR filters which means that that the number of coeffecients in h (also called the filter order) is an even number N=2M and have an initial phase $\\phi_0 = 0$. In the literature the number of taps is N + 1 as it includes the 0th order of the filter. <b> The goal is to find a set of finite coeffecients for h such that the amplitude and frequency responses in the frequency domain meet our design criteria </b>. We'll discuss how to do this in the next sections. "
   ]
  },
  {
   "cell_type": "markdown",
   "id": "af1bab4a",
   "metadata": {},
   "source": [
    "Let's suppose that we want to design a filter that has an amplitude response of:\n",
    "</br>\n",
    "</br>\n",
    "<center> $A_{d}(\\theta) = \\begin{cases}\n",
    "                            1 & \\theta_1 \\leq |\\theta| \\leq \\theta_2 \\\\\n",
    "                            0 & otherwise\n",
    "                       \\end{cases} \\quad (2)$\n",
    "</center>"
   ]
  },
  {
   "cell_type": "code",
   "execution_count": 147,
   "id": "749fad1f",
   "metadata": {},
   "outputs": [
    {
     "data": {
      "image/png": "[encoded data removed]",
      "text/plain": [
       "<Figure size 432x288 with 1 Axes>"
      ]
     },
     "metadata": {
      "needs_background": "light"
     },
     "output_type": "display_data"
    }
   ],
   "source": [
    "# Example bandpass with 0.2*pi and 0.6*pi cutoff frequencies (here theta is in rads/sec)\n",
    "theta1 = 0.2\n",
    "theta2 = 0.6\n",
    "\n",
    "thetas = np.linspace(0, 1, 1000)\n",
    "amplitudes = (thetas >= 0.2) & (thetas <= 0.6)\n",
    "fig, ax = plt.subplots()\n",
    "ax.plot(thetas, amplitudes)\n",
    "ax.spines.top.set_visible(False)\n",
    "ax.spines.right.set_visible(False)\n",
    "ax.set_xlabel(r'$\\theta$')\n",
    "ax.set_ylabel(r'$A_d(\\theta)$')\n",
    "plt.show()"
   ]
  },
  {
   "cell_type": "markdown",
   "id": "69cf4b07",
   "metadata": {},
   "source": [
    "The ideal frequency response of Eq. 2 can be written as (proof in appendix):\n",
    "</br>\n",
    "</br>\n",
    "<center>$H^f(\\theta) = A(\\theta)\\ e^{-i\\theta N/2} \\quad (3) $ </center>"
   ]
  },
  {
   "cell_type": "markdown",
   "id": "763521f3",
   "metadata": {},
   "source": [
    "Here we see two terms, the amplitude response term $A(\\theta)$ and the phase delay of the response $e^{-i\\theta N/2}$. Thus the phase of a type I FIR is a constant equal to half the filters order N/2. This is important. FIR filters delay the output y[n] by 1/2 the filter order. "
   ]
  },
  {
   "cell_type": "markdown",
   "id": "085afb5f",
   "metadata": {},
   "source": [
    "Our goal is still to find $h[n]$, we now have the ideal frequency response $H^f(\\theta)$ so we can use the inverse Fourier transform to to get $h[n]$.\n",
    "</br>\n",
    "</br>\n",
    "<center> $h_d[n] = \\frac{1}{2\\pi} \\int \\limits_{-\\theta_2}^{\\theta_1}e^{i \\theta (n-N/2)} d\\theta + \\frac{1}{2\\pi} \\int \\limits_{\\theta_1}^{\\theta_2}e^{i \\theta (n-N/2)}d\\theta \\quad (4)$\n",
    "</br>\n",
    "</br>\n",
    "$= \\frac{\\sin(\\theta_2(n-N/2))}{\\pi(n-N/2)} - \\frac{\\sin(\\theta_1(n-N/2))}{\\pi(n-N/2)} \\quad (5)$\n",
    "</br>\n",
    "</br>\n",
    "$= \\frac{\\theta_2}{\\pi}sinc[\\frac{\\theta_2(n-N/2)}{\\pi}]- \\frac{\\theta_1}{\\pi}sinc[\\frac{\\theta_1(n-N/2)}{\\pi}] \\quad (6)$"
   ]
  },
  {
   "cell_type": "markdown",
   "id": "0bae4480",
   "metadata": {},
   "source": [
    "Notice that $h_d[n]$ can have as many terms as we like 10, 100, 100k etc.. Since we can't have an infinite set of filter coeffecients, they coeffecients are truncated so that $0 \\leq n \\leq N$. Lets build the impulse response for 40 and 80 coeffecients and plot it onto our desired amplitude response."
   ]
  },
  {
   "cell_type": "code",
   "execution_count": 157,
   "id": "a680cb71",
   "metadata": {},
   "outputs": [
    {
     "data": {
      "image/png": "[encoded data removed]",
      "text/plain": [
       "<Figure size 720x288 with 2 Axes>"
      ]
     },
     "metadata": {
      "needs_background": "light"
     },
     "output_type": "display_data"
    }
   ],
   "source": [
    "n40 = np.arange(0, 40)\n",
    "n80 = np.arange(0, 80)\n",
    "\n",
    "hd_40 = theta2 * np.sinc(theta2 * (n40 - 40/2)) - \\\n",
    "        theta1 * np.sinc(theta1 * (n40 - 40/2))\n",
    "\n",
    "# see 9.5 for amplitude response\n",
    "def amplitude_response(h, thetas=np.linspace(0, np.pi, 1000)):\n",
    "    \"\"\" \"\"\"\n",
    "    \n",
    "    M = len(h)//2\n",
    "    result = []\n",
    "    for theta in thetas:\n",
    "        term = 0\n",
    "        for n in range(0, M+1):\n",
    "            if n==0:\n",
    "                term = h[M]\n",
    "            else:\n",
    "                term += 2*h[M-n]*np.cos(theta*n)\n",
    "        result.append(term)\n",
    "    return result\n",
    "        \n",
    "Ad_40 = amplitude_response(hd_40)\n",
    "    \n",
    "#Ad_40 = np.abs(np.fft.fft(hd_40, n=512, axis=0))\n",
    "\n",
    "hd_80 = theta2 * np.sinc(theta2 * (n80 - 80/2)) - \\\n",
    "        theta1 * np.sinc(theta1 * (n80 - 80/2))\n",
    "Ad_80 = amplitude_response(hd_80)\n",
    "\n",
    "fig, axarr = plt.subplots(1, 2, figsize=(10,4))\n",
    "axarr[0].stem(hd_40)\n",
    "axarr[1].plot(thetas, amplitudes, label=r'$A_d(\\theta)$')\n",
    "f = np.linspace(0,1, len(Ad_80))\n",
    "axarr[1].plot(f, Ad_80)\n",
    "plt.show()"
   ]
  },
  {
   "cell_type": "code",
   "execution_count": null,
   "id": "7cc778d0",
   "metadata": {},
   "outputs": [],
   "source": []
  }
 ],
 "metadata": {
  "kernelspec": {
   "display_name": "Python 3 (ipykernel)",
   "language": "python",
   "name": "python3"
  },
  "language_info": {
   "codemirror_mode": {
    "name": "ipython",
    "version": 3
   },
   "file_extension": ".py",
   "mimetype": "text/x-python",
   "name": "python",
   "nbconvert_exporter": "python",
   "pygments_lexer": "ipython3",
   "version": "3.9.12"
  }
 },
 "nbformat": 4,
 "nbformat_minor": 5
}
